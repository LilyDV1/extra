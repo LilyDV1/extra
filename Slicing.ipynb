{
  "cells": [
    {
      "cell_type": "markdown",
      "metadata": {
        "id": "view-in-github",
        "colab_type": "text"
      },
      "source": [
        "<a href=\"https://colab.research.google.com/github/LilyDV1/extra/blob/master/Slicing.ipynb\" target=\"_parent\"><img src=\"https://colab.research.google.com/assets/colab-badge.svg\" alt=\"Open In Colab\"/></a>"
      ]
    },
    {
      "cell_type": "markdown",
      "metadata": {
        "id": "j7nkJJHX1ilJ"
      },
      "source": [
        "# Slicing\n",
        "\n",
        "## Rainfall\n",
        "\n",
        "The file [rain.txt](https://raw.githubusercontent.com/PX2134/extra/master/rain.txt) contains the monthly average rainfalls in millimeters for Cardiff, Berlin and Los Angeles (in that order). Loading the data into a single array, and using this array, plot:\n",
        "\n",
        "- The monthly rainfall for each city\n",
        "- The yearly average rainfall for each city\n",
        "- The average rainfall between all cities for each month\n",
        "- The seasonal rainfall for each city"
      ]
    },
    {
      "cell_type": "code",
      "execution_count": 1,
      "metadata": {
        "id": "2_YlUSOW1ilM"
      },
      "outputs": [],
      "source": [
        "import numpy as np\n",
        "import matplotlib.pyplot as plt"
      ]
    },
    {
      "cell_type": "code",
      "source": [
        "rain=np.loadtxt('https://raw.githubusercontent.com/PX2134/extra/master/rain.txt')"
      ],
      "metadata": {
        "id": "7_EzUELa1sh1"
      },
      "execution_count": 3,
      "outputs": []
    },
    {
      "cell_type": "code",
      "source": [
        "rain.shape"
      ],
      "metadata": {
        "colab": {
          "base_uri": "https://localhost:8080/"
        },
        "id": "Te38QtaA2DSO",
        "outputId": "6262cdde-086c-4ada-dd9f-bd407033cd96"
      },
      "execution_count": 5,
      "outputs": [
        {
          "output_type": "execute_result",
          "data": {
            "text/plain": [
              "(3, 12)"
            ]
          },
          "metadata": {},
          "execution_count": 5
        }
      ]
    },
    {
      "cell_type": "code",
      "source": [
        "rain[0,:] # first column"
      ],
      "metadata": {
        "colab": {
          "base_uri": "https://localhost:8080/"
        },
        "id": "4c7GWF7W2fw-",
        "outputId": "38e52848-ce11-4f1e-ae30-e314ad677b28"
      },
      "execution_count": 9,
      "outputs": [
        {
          "output_type": "execute_result",
          "data": {
            "text/plain": [
              "array([121.6,  85.2,  89.8,  68.6,  72.3,  66.6,  78.4,  93.4,  94. ,\n",
              "       133.5, 123.4, 125.3])"
            ]
          },
          "metadata": {},
          "execution_count": 9
        }
      ]
    },
    {
      "cell_type": "code",
      "source": [
        "rain[:,0] # january in all cities"
      ],
      "metadata": {
        "colab": {
          "base_uri": "https://localhost:8080/"
        },
        "id": "oRQxuKPF2s5i",
        "outputId": "977db312-068b-4c2a-e813-724a96c16664"
      },
      "execution_count": 10,
      "outputs": [
        {
          "output_type": "execute_result",
          "data": {
            "text/plain": [
              "array([121.6 ,  37.2 ,   3.12])"
            ]
          },
          "metadata": {},
          "execution_count": 10
        }
      ]
    },
    {
      "cell_type": "code",
      "source": [
        "for i in range(3):\n",
        "   print(i)"
      ],
      "metadata": {
        "colab": {
          "base_uri": "https://localhost:8080/"
        },
        "id": "PSFNJ-6o2yvy",
        "outputId": "01f55090-084e-4367-bdef-9b8054767087"
      },
      "execution_count": 12,
      "outputs": [
        {
          "output_type": "stream",
          "name": "stdout",
          "text": [
            "0\n",
            "1\n",
            "2\n"
          ]
        }
      ]
    },
    {
      "cell_type": "code",
      "source": [
        "cities=['Cardiff', 'Berlin', 'Los Angeles']\n",
        "months=['Jan', 'Feb', 'Mar', 'Apr', 'May', 'June', 'July', 'Aug', 'Sep', 'Oct', 'Nov', 'Dec']"
      ],
      "metadata": {
        "id": "5-7Oo7bR3Rpu"
      },
      "execution_count": 20,
      "outputs": []
    },
    {
      "cell_type": "code",
      "source": [
        "for i in range(3):\n",
        "   plt.plot(months, rain[i,:], marker='o', label=cities[i])\n",
        "plt.ylabel('rainfall (mm)')\n",
        "plt.legend()"
      ],
      "metadata": {
        "colab": {
          "base_uri": "https://localhost:8080/",
          "height": 286
        },
        "id": "Mo5EVMsm24I9",
        "outputId": "dcdc1750-5630-4768-8af6-fa2efc3d4529"
      },
      "execution_count": 23,
      "outputs": [
        {
          "output_type": "execute_result",
          "data": {
            "text/plain": [
              "<matplotlib.legend.Legend at 0x7f60147bb450>"
            ]
          },
          "metadata": {},
          "execution_count": 23
        },
        {
          "output_type": "display_data",
          "data": {
            "text/plain": [
              "<Figure size 432x288 with 1 Axes>"
            ],
            "image/png": "[encoded data removed]"
          },
          "metadata": {
            "needs_background": "light"
          }
        }
      ]
    },
    {
      "cell_type": "code",
      "source": [
        "np.average(rain[0,:]) # average rain in cardiff throughout the year"
      ],
      "metadata": {
        "colab": {
          "base_uri": "https://localhost:8080/"
        },
        "id": "gjqqXGr_4ELH",
        "outputId": "17d2f709-74b1-40d6-e0fd-9c495cfc576a"
      },
      "execution_count": 25,
      "outputs": [
        {
          "output_type": "execute_result",
          "data": {
            "text/plain": [
              "96.00833333333333"
            ]
          },
          "metadata": {},
          "execution_count": 25
        }
      ]
    },
    {
      "cell_type": "code",
      "source": [
        "for i in range(3):\n",
        "   plt.bar(cities[i], np.average(rain[i,:]))\n",
        "plt.ylabel('rainfall (mm)')"
      ],
      "metadata": {
        "colab": {
          "base_uri": "https://localhost:8080/",
          "height": 285
        },
        "id": "MZZSjR0C4Op5",
        "outputId": "e94324cd-a654-41d8-b273-d7019cd0e68a"
      },
      "execution_count": 31,
      "outputs": [
        {
          "output_type": "execute_result",
          "data": {
            "text/plain": [
              "Text(0, 0.5, 'rainfall (mm)')"
            ]
          },
          "metadata": {},
          "execution_count": 31
        },
        {
          "output_type": "display_data",
          "data": {
            "text/plain": [
              "<Figure size 432x288 with 1 Axes>"
            ],
            "image/png": "[encoded data removed]"
          },
          "metadata": {
            "needs_background": "light"
          }
        }
      ]
    },
    {
      "cell_type": "code",
      "source": [
        "rain[:,0] # average for january"
      ],
      "metadata": {
        "id": "1oIQnNv08lP4",
        "outputId": "61de57bc-9921-4a4d-df78-a120a36347e3",
        "colab": {
          "base_uri": "https://localhost:8080/"
        }
      },
      "execution_count": 33,
      "outputs": [
        {
          "output_type": "execute_result",
          "data": {
            "text/plain": [
              "array([121.6 ,  37.2 ,   3.12])"
            ]
          },
          "metadata": {},
          "execution_count": 33
        }
      ]
    },
    {
      "cell_type": "code",
      "source": [
        "average=np.zeros(12)\n",
        "for i in range(12):\n",
        "   average[i]=np.average(rain[:,i])"
      ],
      "metadata": {
        "id": "W5qcJVp68tB5"
      },
      "execution_count": 34,
      "outputs": []
    },
    {
      "cell_type": "code",
      "source": [
        "np.average(rain, axis=1) # only columns\n",
        "np.average(rain, axis=0) # only rows\n",
        "np.average(rain) # for all points"
      ],
      "metadata": {
        "id": "fwQX6NzO9a2F",
        "outputId": "980ff05d-70e0-498d-82ae-f8a907f79cfb",
        "colab": {
          "base_uri": "https://localhost:8080/"
        }
      },
      "execution_count": 40,
      "outputs": [
        {
          "output_type": "execute_result",
          "data": {
            "text/plain": [
              "46.700833333333335"
            ]
          },
          "metadata": {},
          "execution_count": 40
        }
      ]
    },
    {
      "cell_type": "code",
      "source": [
        "plt.plot(months, average, marker='o')\n",
        "plt.ylabel('rainfall (mm)')\n",
        "plt.title('average rainfall between the three cities (mm)')"
      ],
      "metadata": {
        "id": "1ZQUUdZa8tQl",
        "outputId": "86edbe9a-a38c-4a02-8a89-a91c37ce65dd",
        "colab": {
          "base_uri": "https://localhost:8080/",
          "height": 298
        }
      },
      "execution_count": 38,
      "outputs": [
        {
          "output_type": "execute_result",
          "data": {
            "text/plain": [
              "Text(0.5, 1.0, 'average rainfall between the three cities (mm)')"
            ]
          },
          "metadata": {},
          "execution_count": 38
        },
        {
          "output_type": "display_data",
          "data": {
            "text/plain": [
              "<Figure size 432x288 with 1 Axes>"
            ],
            "image/png": "[encoded data removed]"
          },
          "metadata": {
            "needs_background": "light"
          }
        }
      ]
    },
    {
      "cell_type": "markdown",
      "metadata": {
        "id": "E8R8ebTl1ilO"
      },
      "source": [
        "## Sudoku\n",
        "\n",
        "A [Sudoku](https://en.wikipedia.org/wiki/Sudoku) square is a square of 9 by 9 integers from 1 to 9, such that each row, each column and each of the 9 non-overlapping 3 by 3 sub-square contains all the integers from 1 to 9.\n",
        "\n",
        "Write a program to check if a 9 by 9 square of integers is a _Sudoku_ square. You may need to use `set()`, a command that returns the unique elements of an array, e.g.:"
      ]
    },
    {
      "cell_type": "code",
      "source": [],
      "metadata": {
        "id": "8KWdQTLw8sjC"
      },
      "execution_count": null,
      "outputs": []
    },
    {
      "cell_type": "code",
      "source": [],
      "metadata": {
        "id": "Eb1JR1FA2fDX"
      },
      "execution_count": null,
      "outputs": []
    },
    {
      "cell_type": "code",
      "execution_count": null,
      "metadata": {
        "id": "IiOn7eWZ1ilP",
        "outputId": "13a86c98-e213-482b-f4c0-74945efa504a"
      },
      "outputs": [
        {
          "data": {
            "text/plain": [
              "{1, 2, 3, 4, 5}"
            ]
          },
          "execution_count": 1,
          "metadata": {},
          "output_type": "execute_result"
        }
      ],
      "source": [
        "set([1,2,3,3,4,4,5])"
      ]
    },
    {
      "cell_type": "markdown",
      "metadata": {
        "id": "CD1C3bzW1ilQ"
      },
      "source": [
        "Using this program, try to use the [Monte Carlo](https://github.com/PX2134/extra/blob/master/Monte_Carlo.ipynb) method to write a Sudoku solver."
      ]
    },
    {
      "cell_type": "code",
      "execution_count": null,
      "metadata": {
        "id": "Z0CfazeX1ilR"
      },
      "outputs": [],
      "source": []
    }
  ],
  "metadata": {
    "kernelspec": {
      "display_name": "Python 3",
      "language": "python",
      "name": "python3"
    },
    "language_info": {
      "codemirror_mode": {
        "name": "ipython",
        "version": 3
      },
      "file_extension": ".py",
      "mimetype": "text/x-python",
      "name": "python",
      "nbconvert_exporter": "python",
      "pygments_lexer": "ipython3",
      "version": "3.7.10"
    },
    "colab": {
      "provenance": [],
      "include_colab_link": true
    }
  },
  "nbformat": 4,
  "nbformat_minor": 0
}