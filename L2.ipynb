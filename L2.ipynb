{
  "nbformat": 4,
  "nbformat_minor": 0,
  "metadata": {
    "colab": {
      "provenance": [],
      "authorship_tag": "ABX9TyOma6nbuEpMaNkBxsie0stA",
      "include_colab_link": true
    },
    "kernelspec": {
      "name": "python3",
      "display_name": "Python 3"
    },
    "language_info": {
      "name": "python"
    }
  },
  "cells": [
    {
      "cell_type": "markdown",
      "metadata": {
        "id": "view-in-github",
        "colab_type": "text"
      },
      "source": [
        "<a href=\"https://colab.research.google.com/github/LilyDV1/extra/blob/master/L2.ipynb\" target=\"_parent\"><img src=\"https://colab.research.google.com/assets/colab-badge.svg\" alt=\"Open In Colab\"/></a>"
      ]
    },
    {
      "cell_type": "code",
      "execution_count": 10,
      "metadata": {
        "id": "qqsSdhqDLQVQ"
      },
      "outputs": [],
      "source": [
        "from pylab import *\n",
        "import numpy as np\n",
        "import matplotlib.pyplot as plt"
      ]
    },
    {
      "cell_type": "code",
      "source": [
        "! pip install -q uncertainties"
      ],
      "metadata": {
        "colab": {
          "base_uri": "https://localhost:8080/"
        },
        "id": "BgjnU3LQLX1b",
        "outputId": "2416bc7e-5a4f-4ebb-b8ab-1a4174976034"
      },
      "execution_count": 11,
      "outputs": [
        {
          "output_type": "stream",
          "name": "stdout",
          "text": [
            "\u001b[?25l     \u001b[90m━━━━━━━━━━━━━━━━━━━━━━━━━━━━━━━━━━━━━━━━\u001b[0m \u001b[32m0.0/98.4 KB\u001b[0m \u001b[31m?\u001b[0m eta \u001b[36m-:--:--\u001b[0m\r\u001b[2K     \u001b[90m━━━━━━━━━━━━━━━━━━━━━━━━━━━━━━━━━━━━━━━━\u001b[0m \u001b[32m98.4/98.4 KB\u001b[0m \u001b[31m5.0 MB/s\u001b[0m eta \u001b[36m0:00:00\u001b[0m\n",
            "\u001b[?25h"
          ]
        }
      ]
    },
    {
      "cell_type": "code",
      "source": [
        "import uncertainties as uc\n",
        "import uncertainties.umath as um"
      ],
      "metadata": {
        "id": "4soMFNrLLYKC"
      },
      "execution_count": 12,
      "outputs": []
    },
    {
      "cell_type": "code",
      "source": [
        "A = uc.ufloat(31.1142, 0.00781)\n",
        "B = uc.ufloat(31.1201, 0.01581)\n",
        "C = uc.ufloat(31.0977, 0.01133)\n",
        "D = uc.ufloat(30.4807, 0.01611)\n",
        "E = uc.ufloat(31.1159, 0.00738)\n",
        "F = uc.ufloat(31.0972, 0.00971)\n",
        "G = uc.ufloat(31.0607, 0.01711)"
      ],
      "metadata": {
        "id": "Im6GS-dlLZ7V"
      },
      "execution_count": 13,
      "outputs": []
    },
    {
      "cell_type": "code",
      "source": [
        "avgV=((A+B+C+D+E+F+G)/7)\n",
        "print(avgV)"
      ],
      "metadata": {
        "colab": {
          "base_uri": "https://localhost:8080/"
        },
        "id": "1jwFfV-9L-ra",
        "outputId": "07b53ab6-3f01-4023-921a-ef90e2e1bea6"
      },
      "execution_count": 14,
      "outputs": [
        {
          "output_type": "stream",
          "name": "stdout",
          "text": [
            "31.012+/-0.005\n"
          ]
        }
      ]
    },
    {
      "cell_type": "code",
      "source": [
        "Ab = uc.ufloat(31.67548, 0.018)\n",
        "Bb = uc.ufloat(31.6831, 0.0158)\n",
        "Cb = uc.ufloat(31.66241, 0.02309)\n",
        "Db = uc.ufloat(31.68024, 0.02375)\n",
        "Eb = uc.ufloat(31.6979, 0.01704)\n",
        "Fb = uc.ufloat(31.66147, 0.02021)\n",
        "Gb = uc.ufloat(31.63805, 0.02693)"
      ],
      "metadata": {
        "id": "m0TYYs2FMJCw"
      },
      "execution_count": 15,
      "outputs": []
    },
    {
      "cell_type": "code",
      "source": [
        "avgB=((Ab+Bb+Cb+Db+Eb+Fb+Gb)/7)\n",
        "print(avgB)"
      ],
      "metadata": {
        "colab": {
          "base_uri": "https://localhost:8080/"
        },
        "id": "DqnjFh1UPN7_",
        "outputId": "86a6e97d-c0ec-4391-fcd1-c59e4612245a"
      },
      "execution_count": 16,
      "outputs": [
        {
          "output_type": "stream",
          "name": "stdout",
          "text": [
            "31.671+/-0.008\n"
          ]
        }
      ]
    },
    {
      "cell_type": "code",
      "source": [
        "from astropy.table import Table\n",
        "file1 = Table.read('B band.csv', format='csv') # aparent magnitude\n",
        "\n",
        "bm = file1['m'].data\n",
        "bme = file1['me'].data\n",
        "bx = file1['x'].data\n",
        "by = file1['y'].data"
      ],
      "metadata": {
        "id": "ltpKCYjMPylB"
      },
      "execution_count": 38,
      "outputs": []
    },
    {
      "cell_type": "code",
      "source": [
        "file2 = Table.read('V_Band.csv', format='csv') # aparent magnitude\n",
        "\n",
        "vm = file2['m'].data\n",
        "vme = file2['me'].data\n",
        "vx = file2['x'].data\n",
        "vy = file2['y'].data"
      ],
      "metadata": {
        "id": "HfAj8vLP7ZAE"
      },
      "execution_count": 42,
      "outputs": []
    },
    {
      "cell_type": "code",
      "source": [
        "bm = uc.ufloat(file1[3], file1[4])\n",
        "bx = file1[1]\n",
        "by = file1[2]"
      ],
      "metadata": {
        "colab": {
          "base_uri": "https://localhost:8080/",
          "height": 200
        },
        "id": "KDa4kaTo8vea",
        "outputId": "676baa09-6fef-4af4-b6e5-8391ae4764e8"
      },
      "execution_count": 25,
      "outputs": [
        {
          "output_type": "error",
          "ename": "TypeError",
          "evalue": "ignored",
          "traceback": [
            "\u001b[0;31m---------------------------------------------------------------------------\u001b[0m",
            "\u001b[0;31mTypeError\u001b[0m                                 Traceback (most recent call last)",
            "\u001b[0;32m<ipython-input-25-2ebc63564239>\u001b[0m in \u001b[0;36m<module>\u001b[0;34m\u001b[0m\n\u001b[0;32m----> 1\u001b[0;31m \u001b[0mbm\u001b[0m \u001b[0;34m=\u001b[0m \u001b[0muc\u001b[0m\u001b[0;34m.\u001b[0m\u001b[0mufloat\u001b[0m\u001b[0;34m(\u001b[0m\u001b[0mfile1\u001b[0m\u001b[0;34m[\u001b[0m\u001b[0;36m3\u001b[0m\u001b[0;34m]\u001b[0m\u001b[0;34m,\u001b[0m \u001b[0mfile1\u001b[0m\u001b[0;34m[\u001b[0m\u001b[0;36m4\u001b[0m\u001b[0;34m]\u001b[0m\u001b[0;34m)\u001b[0m\u001b[0;34m\u001b[0m\u001b[0;34m\u001b[0m\u001b[0m\n\u001b[0m\u001b[1;32m      2\u001b[0m \u001b[0mbx\u001b[0m \u001b[0;34m=\u001b[0m \u001b[0mfile1\u001b[0m\u001b[0;34m[\u001b[0m\u001b[0;36m1\u001b[0m\u001b[0;34m]\u001b[0m\u001b[0;34m\u001b[0m\u001b[0;34m\u001b[0m\u001b[0m\n\u001b[1;32m      3\u001b[0m \u001b[0mby\u001b[0m \u001b[0;34m=\u001b[0m \u001b[0mfile1\u001b[0m\u001b[0;34m[\u001b[0m\u001b[0;36m2\u001b[0m\u001b[0;34m]\u001b[0m\u001b[0;34m\u001b[0m\u001b[0;34m\u001b[0m\u001b[0m\n",
            "\u001b[0;31mTypeError\u001b[0m: '_io.TextIOWrapper' object is not subscriptable"
          ]
        }
      ]
    },
    {
      "cell_type": "code",
      "source": [
        "vm = uc.ufloat(file2[3], file2[4])\n",
        "vx = file2[1]\n",
        "vy = file2[2]"
      ],
      "metadata": {
        "id": "gtqGbEIf_wIO"
      },
      "execution_count": null,
      "outputs": []
    },
    {
      "cell_type": "code",
      "source": [
        "# Absoltue magnitude eqaution\n",
        "\n",
        "def Absolute(m):\n",
        "  M = m-(5*np.log(7000))+5\n",
        "  return M\n",
        "\n",
        "Mv = Absolute(vm)\n",
        "print(Mv)"
      ],
      "metadata": {
        "id": "cqxdrd1A-Jm_"
      },
      "execution_count": null,
      "outputs": []
    },
    {
      "cell_type": "code",
      "source": [],
      "metadata": {
        "id": "sLu6zbeP-JrP"
      },
      "execution_count": null,
      "outputs": []
    }
  ]
}